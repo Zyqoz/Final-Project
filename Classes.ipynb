{
 "cells": [
  {
   "cell_type": "code",
   "execution_count": 69,
   "id": "c70d9944-771d-4ddd-a267-2f56b3fea751",
   "metadata": {},
   "outputs": [],
   "source": [
    "import pandas as pd\n",
    "\n",
    "class Die():\n",
    "    \"\"\" \n",
    "    This class instantiates a die with N sides and W weights, and the die can be rolled to select a face\n",
    "    \"\"\"\n",
    "    \n",
    "    #Add documentations\n",
    "    #To fix to work for nd arras\n",
    "    def __init__(self, faces):\n",
    "        '''\n",
    "        Takes an nd array\n",
    "        '''\n",
    "        \n",
    "        #Checking criteria of the arguments\n",
    "        \n",
    "        if not isinstance(faces[0], int) and not isinstance(faces[0], str):\n",
    "            raise TypeError('Incorrect dtype')\n",
    "            \n",
    "        for face in faces[1:]:\n",
    "            if not isinstance(face,type(faces[0])):\n",
    "                raise TypeError('Incorrect dtype')\n",
    "        \n",
    "        if not len(set(faces)) == len(faces):\n",
    "            return 'The elements of the faces must be unique'\n",
    "        \n",
    "        weights = np.full(len(faces), 1, dtype = float)\n",
    "        \n",
    "        self._die = pd.DataFrame({'Faces': faces, 'Weights' : weights})\n",
    "\n",
    "    def changeWeight (self, faceIndex, newWeight):\n",
    "        pass"
   ]
  },
  {
   "cell_type": "code",
   "execution_count": 73,
   "id": "fe112952-bc34-4dbd-acaa-f74fe26eb79d",
   "metadata": {},
   "outputs": [
    {
     "data": {
      "text/html": [
       "<div>\n",
       "<style scoped>\n",
       "    .dataframe tbody tr th:only-of-type {\n",
       "        vertical-align: middle;\n",
       "    }\n",
       "\n",
       "    .dataframe tbody tr th {\n",
       "        vertical-align: top;\n",
       "    }\n",
       "\n",
       "    .dataframe thead th {\n",
       "        text-align: right;\n",
       "    }\n",
       "</style>\n",
       "<table border=\"1\" class=\"dataframe\">\n",
       "  <thead>\n",
       "    <tr style=\"text-align: right;\">\n",
       "      <th></th>\n",
       "      <th>Faces</th>\n",
       "      <th>Weights</th>\n",
       "    </tr>\n",
       "  </thead>\n",
       "  <tbody>\n",
       "    <tr>\n",
       "      <th>0</th>\n",
       "      <td>hello there</td>\n",
       "      <td>1.0</td>\n",
       "    </tr>\n",
       "  </tbody>\n",
       "</table>\n",
       "</div>"
      ],
      "text/plain": [
       "         Faces  Weights\n",
       "0  hello there      1.0"
      ]
     },
     "execution_count": 73,
     "metadata": {},
     "output_type": "execute_result"
    }
   ],
   "source": [
    "data1 = [\"hello there\"]\n",
    "test = Die(data1)\n",
    "test.df\n"
   ]
  },
  {
   "cell_type": "code",
   "execution_count": 43,
   "id": "1d6eb4cb-7526-4e52-ba87-6ce9fedf6bcd",
   "metadata": {},
   "outputs": [
    {
     "data": {
      "text/plain": [
       "True"
      ]
     },
     "execution_count": 43,
     "metadata": {},
     "output_type": "execute_result"
    }
   ],
   "source": [
    "isinstance(,int)"
   ]
  }
 ],
 "metadata": {
  "kernelspec": {
   "display_name": "Python 3 (ipykernel)",
   "language": "python",
   "name": "python3"
  },
  "language_info": {
   "codemirror_mode": {
    "name": "ipython",
    "version": 3
   },
   "file_extension": ".py",
   "mimetype": "text/x-python",
   "name": "python",
   "nbconvert_exporter": "python",
   "pygments_lexer": "ipython3",
   "version": "3.9.12"
  }
 },
 "nbformat": 4,
 "nbformat_minor": 5
}
