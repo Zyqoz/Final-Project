{
 "cells": [
  {
   "cell_type": "markdown",
   "id": "2edb7a3d-4929-455f-890e-0de69b1b53d5",
   "metadata": {},
   "source": [
    "# Scenario 1"
   ]
  },
  {
   "cell_type": "code",
   "execution_count": 8,
   "id": "2cfdb05b-6c1b-41a7-9d2b-ebc840f07ba0",
   "metadata": {},
   "outputs": [
    {
     "name": "stdout",
     "output_type": "stream",
     "text": [
      "The fair game relative frequency of jackpot is  0.245\n",
      "The unfair game relative frequency of jackpot is  0.372\n"
     ]
    },
    {
     "data": {
      "image/png": "[encoded data removed]",
      "text/plain": [
       "<Figure size 432x288 with 1 Axes>"
      ]
     },
     "metadata": {
      "needs_background": "light"
     },
     "output_type": "display_data"
    }
   ],
   "source": [
    "from montecarlo import Die\n",
    "from montecarlo import Game\n",
    "from montecarlo import Analyzer\n",
    "import numpy as np\n",
    "import pandas as pd\n",
    "import random\n",
    "coin_array = np.array(['H', 'T'])\n",
    "\n",
    "fair_coin = Die(coin_array)\n",
    "unfair_coin = Die(coin_array)\n",
    "\n",
    "unfair_coin.changeWeight('H', 5)\n",
    "\n",
    "fairGame = Game([fair_coin, fair_coin, fair_coin])\n",
    "fairGame.play(1000)\n",
    "\n",
    "unfairGame = Game([unfair_coin, unfair_coin, fair_coin])\n",
    "unfairGame.play(1000)\n",
    "\n",
    "fairGameAnalyzer = Analyzer(fairGame)\n",
    "unfairGameAnalyzer = Analyzer(unfairGame)\n",
    "\n",
    "fairGameJackpotRelativeFrequency = fairGameAnalyzer.jackpot_count()/1000\n",
    "unfairGameJackpotRelativeFrequency = unfairGameAnalyzer.jackpot_count()/1000\n",
    "\n",
    "print('The fair game relative frequency of jackpot is ', fairGameJackpotRelativeFrequency)\n",
    "print('The unfair game relative frequency of jackpot is ', unfairGameJackpotRelativeFrequency)\n",
    "\n",
    "df = pd.DataFrame({'Type of Game':['Fair Game', 'Unfair Game'], 'Relative Frequency':[fairGameJackpotRelativeFrequency, unfairGameJackpotRelativeFrequency]})\n",
    "ax = df.plot.bar(x = 'Type of Game', y = 'Relative Frequency', rot=0)"
   ]
  },
  {
   "cell_type": "markdown",
   "id": "5f339b25-6f57-4445-a50b-7f28e604543d",
   "metadata": {},
   "source": [
    "# Scenario 2"
   ]
  },
  {
   "cell_type": "code",
   "execution_count": 11,
   "id": "4ed6a404-8524-4244-81e6-3980a04ce19d",
   "metadata": {},
   "outputs": [
    {
     "name": "stdout",
     "output_type": "stream",
     "text": [
      "The fair game relative frequency of jackpot is  0.012\n",
      "The unfair game relative frequency of jackpot is  0.011\n"
     ]
    },
    {
     "data": {
      "image/png": "[encoded data removed]",
      "text/plain": [
       "<Figure size 432x288 with 1 Axes>"
      ]
     },
     "metadata": {
      "needs_background": "light"
     },
     "output_type": "display_data"
    }
   ],
   "source": [
    "die_array = np.array([1, 2, 3, 4, 5, 6])\n",
    "\n",
    "fair_die = Die(die_array)\n",
    "unfair_die_type1 = Die(die_array)\n",
    "unfair_die_type2 = Die(die_array)\n",
    "\n",
    "unfair_die_type1.changeWeight(6, 5)\n",
    "unfair_die_type2.changeWeight(1, 5)\n",
    "\n",
    "fairGame = Game([fair_die, fair_die, fair_die, fair_die, fair_die])\n",
    "fairGame.play(10000)\n",
    "\n",
    "unfairGame = Game([unfair_die_type1, unfair_die_type1, unfair_die_type2, fair_die, fair_die])\n",
    "unfairGame.play(10000)\n",
    "\n",
    "fairGameAnalyzer = Analyzer(fairGame)\n",
    "unfairGameAnalyzer = Analyzer(unfairGame)\n",
    "\n",
    "fairGameJackpotRelativeFrequency = fairGameAnalyzer.jackpot_count()/1000\n",
    "unfairGameJackpotRelativeFrequency = unfairGameAnalyzer.jackpot_count()/1000\n",
    "\n",
    "print('The fair game relative frequency of jackpot is ', fairGameJackpotRelativeFrequency)\n",
    "print('The unfair game relative frequency of jackpot is ', unfairGameJackpotRelativeFrequency)\n",
    "\n",
    "df = pd.DataFrame({'Type of Game':['Fair Game', 'Unfair Game'], 'Relative Frequency':[fairGameJackpotRelativeFrequency, unfairGameJackpotRelativeFrequency]})\n",
    "ax = df.plot.bar(x = 'Type of Game', y = 'Relative Frequency', rot=0)\n",
    "\n"
   ]
  },
  {
   "cell_type": "markdown",
   "id": "106c88d9-ed0a-4872-a145-d9735094c042",
   "metadata": {},
   "source": [
    "# Scenario 3"
   ]
  },
  {
   "cell_type": "code",
   "execution_count": 9,
   "id": "81b529fc-f6ba-48eb-9f98-0c444f17c43c",
   "metadata": {},
   "outputs": [
    {
     "name": "stdout",
     "output_type": "stream",
     "text": [
      "             0  1  2  3  4\n",
      "Roll Number               \n",
      "385          a  g  e  n  a\n",
      "325          a  s  a  b  a\n",
      "143          a  t  n  o  a\n",
      "943          a  r  r  r  l\n",
      "794          i  n  o  i  e\n",
      "241          r  n  l  e  n\n",
      "14           d  t  w  e  g\n",
      "679          f  s  o  m  n\n",
      "940          o  e  a  a  n\n",
      "44           e  n  e  c  u\n",
      "             0  1  2  3  4\n",
      "Roll Number               \n",
      "172          r  e  n  m  p\n",
      "683          i  s  u  d  t\n",
      "290          x  t  n  u  c\n",
      "8            t  i  s  g  a\n",
      "225          r  e  e  r  h\n",
      "834          g  t  c  n  c\n",
      "354          f  r  u  e  e\n",
      "188          l  r  h  t  l\n",
      "833          a  e  t  u  i\n",
      "415          e  e  o  y  t\n",
      "             0  1  2  3  4\n",
      "Roll Number               \n",
      "669          n  c  a  m  s\n",
      "635          a  l  l  d  e\n",
      "899          a  n  i  n  l\n",
      "505          t  n  n  l  o\n",
      "383          p  r  y  o  h\n",
      "208          i  i  n  g  o\n",
      "7            p  r  n  s  v\n",
      "103          h  i  n  f  e\n",
      "203          t  l  o  i  s\n",
      "188          l  r  h  t  l\n",
      "             0  1  2  3  4\n",
      "Roll Number               \n",
      "941          d  f  l  t  m\n",
      "350          r  s  i  e  n\n",
      "46           i  e  p  e  e\n",
      "708          n  u  l  i  m\n",
      "16           u  t  g  l  i\n",
      "297          r  h  r  a  g\n",
      "84           n  o  e  i  s\n",
      "918          i  l  n  n  n\n",
      "829          o  f  n  e  w\n",
      "442          s  h  s  i  n\n",
      "             0  1  2  3  4\n",
      "Roll Number               \n",
      "547          n  f  n  s  a\n",
      "280          r  d  a  t  l\n",
      "499          t  n  i  e  a\n",
      "728          b  f  r  c  a\n",
      "907          m  l  u  s  h\n",
      "407          i  a  t  c  f\n",
      "734          i  i  g  h  t\n",
      "696          o  d  e  t  r\n",
      "525          a  a  o  a  n\n",
      "348          m  o  x  s  k\n",
      "             0  1  2  3  4\n",
      "Roll Number               \n",
      "274          l  e  g  r  e\n",
      "372          a  n  n  o  i\n",
      "695          o  o  i  n  i\n",
      "940          o  e  a  a  n\n",
      "738          l  h  r  s  r\n",
      "527          y  i  m  y  a\n",
      "897          y  o  e  a  a\n",
      "590          f  v  o  a  p\n",
      "765          u  a  i  r  o\n",
      "789          h  c  s  o  t\n",
      "             0  1  2  3  4\n",
      "Roll Number               \n",
      "942          t  u  e  h  c\n",
      "887          z  r  l  a  t\n",
      "691          i  v  t  h  a\n",
      "556          n  s  e  e  s\n",
      "552          c  o  e  b  m\n",
      "431          n  k  u  a  j\n",
      "97           l  n  v  a  i\n",
      "200          i  a  n  h  s\n",
      "625          e  w  r  u  o\n",
      "348          m  o  x  s  k\n",
      "             0  1  2  3  4\n",
      "Roll Number               \n",
      "395          i  r  t  l  e\n",
      "12           o  r  m  t  r\n",
      "961          e  i  f  l  d\n",
      "177          m  e  p  l  r\n",
      "129          w  t  s  i  f\n",
      "706          r  v  e  e  l\n",
      "650          c  e  o  c  l\n",
      "226          i  s  i  m  d\n",
      "487          s  o  t  t  e\n",
      "778          e  p  a  l  k\n",
      "             0  1  2  3  4\n",
      "Roll Number               \n",
      "29           d  n  t  i  n\n",
      "244          t  e  s  r  y\n",
      "384          k  r  t  e  i\n",
      "547          n  f  n  s  a\n",
      "278          c  a  c  l  e\n",
      "363          s  b  e  i  r\n",
      "931          o  u  i  l  a\n",
      "877          i  o  l  n  b\n",
      "308          u  n  s  h  v\n",
      "199          e  g  h  a  i\n",
      "             0  1  2  3  4\n",
      "Roll Number               \n",
      "747          t  o  i  o  m\n",
      "626          e  a  l  f  c\n",
      "537          d  s  i  s  f\n",
      "862          s  g  i  a  a\n",
      "302          t  e  o  o  i\n",
      "492          r  u  i  l  l\n",
      "104          s  a  a  n  n\n",
      "786          e  b  s  r  t\n",
      "158          n  l  m  v  u\n",
      "29           d  n  t  i  n\n"
     ]
    }
   ],
   "source": [
    "letterArray = np.array(['a', 'b', 'c', 'd', 'e', 'f', 'g', 'h', 'i', 'j', 'k', 'l', 'm', 'n', 'o', 'p', 'q', 'r', 's', 't', 'u', 'v', 'w', 'x', 'y', 'z'])\n",
    "\n",
    "alphDie = Die(letterArray)\n",
    "\n",
    "\n",
    "alphDict = {\n",
    "'a':8.4966,\n",
    "'b':2.0720,\n",
    "'c':4.5388,\n",
    "'d':3.3844,\n",
    "'e':11.1607,\n",
    "'f':1.8121,\n",
    "'g':2.4705,\n",
    "'h':3.0034,\n",
    "'i':7.5448,\n",
    "'j':0.1965,\n",
    "'k':1.1016,\n",
    "'l':5.4893,\n",
    "'m':3.0129,\n",
    "'n':6.6544,\n",
    "'o':7.1635,\n",
    "'p':3.1671,\n",
    "'q':0.1962,\n",
    "'r':7.5809,\n",
    "'s':5.7351,\n",
    "'t':6.9509,\n",
    "'u':3.6308,\n",
    "'v':1.0074,\n",
    "'w':1.2899,\n",
    "'x':0.2902,\n",
    "'y':1.7779,\n",
    "'z':0.2722\n",
    "}\n",
    "for l in letterArray:\n",
    "    alphDie.changeWeight(l, alphDict[l])\n",
    "\n",
    "\n",
    "alphDie.showDie()\n",
    "\n",
    "alphGame = Game([alphDie, alphDie, alphDie, alphDie, alphDie])\n",
    "\n",
    "alphGame.play(1000)\n",
    "\n",
    "alphGame._results\n",
    "\n",
    "for x in range(10):\n",
    "    randomList = random.sample(range(0, 999), 10)\n",
    "    print(alphGame._results.iloc[randomList])"
   ]
  },
  {
   "cell_type": "markdown",
   "id": "a658f482-8f09-4af6-bc39-7de95ed4457e",
   "metadata": {},
   "source": [
    "I saw one English word in the entire list"
   ]
  }
 ],
 "metadata": {
  "kernelspec": {
   "display_name": "Python 3 (ipykernel)",
   "language": "python",
   "name": "python3"
  },
  "language_info": {
   "codemirror_mode": {
    "name": "ipython",
    "version": 3
   },
   "file_extension": ".py",
   "mimetype": "text/x-python",
   "name": "python",
   "nbconvert_exporter": "python",
   "pygments_lexer": "ipython3",
   "version": "3.9.12"
  }
 },
 "nbformat": 4,
 "nbformat_minor": 5
}
